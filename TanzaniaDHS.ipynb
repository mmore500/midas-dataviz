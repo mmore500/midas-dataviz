        "Load and show Tanzania DHS dataset."
      ],
      "metadata":{
        "id":"30_ij_DRXjEY"
      }
    },
    {
      "cell_type":"code",
      "source":[
        "df = pd.read_csv(\"https://raw.githubusercontent.com/mmore500/midas-dataviz/master/TanzaniaDHS.csv\")\n",
        "df"
      ],
      "metadata":{
        "id":"3wCYtYAs5uCa"
      },
      "execution_count":null,
      "outputs":[
        
      ]
    },
    {
      "cell_type":"markdown",
      "source":[
        "Run the Interactive Visualizer"
      ],
      "metadata":{
        "id":"Hr0n9qCnKFAE"
      }
    },
    {
      "cell_type":"code",
      "source":[
        "pyg.walk(df)\n",
        "pass"
      ],
      "metadata":{
        "id":"ekz73mYy5u7x"
      },
      "execution_count":null,
      "outputs":[
        
      ]
    }
  ]
}
